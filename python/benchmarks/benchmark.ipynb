{
 "cells": [
  {
   "cell_type": "code",
   "execution_count": null,
   "id": "682ec05a",
   "metadata": {},
   "outputs": [],
   "source": [
    "%load_ext autoreload\n",
    "%autoreload 2\n",
    "\n",
    "import minimalloc as mm"
   ]
  },
  {
   "cell_type": "code",
   "execution_count": null,
   "id": "6553bc86",
   "metadata": {},
   "outputs": [],
   "source": [
    "# problem = mm.from_csv_file(\"../../benchmarks/examples/input.12.csv\")\n",
    "# problem = mm.from_csv_file(\"../../benchmarks/challenging/A.1048576.csv\")\n",
    "problem = mm.from_csv_file(\"../../benchmarks/somas_tensors/resnet50.csv\")\n",
    "problem.capacity = 1521895084\n",
    "params = mm.SolverParams()\n",
    "params.minimize_capacity = False\n",
    "solver = mm.Solver(params)\n",
    "solution = solver.solve(problem)\n",
    "print(f\"{solution.height:,}\")"
   ]
  }
 ],
 "metadata": {
  "kernelspec": {
   "display_name": "venv",
   "language": "python",
   "name": "python3"
  },
  "language_info": {
   "codemirror_mode": {
    "name": "ipython",
    "version": 3
   },
   "file_extension": ".py",
   "mimetype": "text/x-python",
   "name": "python",
   "nbconvert_exporter": "python",
   "pygments_lexer": "ipython3",
   "version": "3.10.12"
  }
 },
 "nbformat": 4,
 "nbformat_minor": 5
}
